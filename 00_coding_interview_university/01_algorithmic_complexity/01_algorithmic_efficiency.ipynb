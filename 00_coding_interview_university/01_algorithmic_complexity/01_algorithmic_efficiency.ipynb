{
 "cells": [
  {
   "cell_type": "markdown",
   "id": "7a1fadba",
   "metadata": {},
   "source": [
    "Practice coding using arrays and pointers, and pointer math to jump to an index instead of indexing"
   ]
  },
  {
   "cell_type": "code",
   "execution_count": 23,
   "id": "b09bf50b",
   "metadata": {},
   "outputs": [],
   "source": [
    "array1 = [2, 3, 5, 7, 11, 13, 17, 19, 23, 29, 31]"
   ]
  },
  {
   "cell_type": "code",
   "execution_count": 24,
   "id": "3da56dbf",
   "metadata": {},
   "outputs": [],
   "source": [
    "def size(arr):\n",
    "    return len(arr)"
   ]
  },
  {
   "cell_type": "code",
   "execution_count": 25,
   "id": "cf463027",
   "metadata": {},
   "outputs": [],
   "source": [
    "def push(arr, item):\n",
    "    arr.append(item)"
   ]
  },
  {
   "cell_type": "code",
   "execution_count": 26,
   "id": "5d6d65cc",
   "metadata": {},
   "outputs": [],
   "source": [
    "def at(arr, index):\n",
    "    if index >= len(arr):\n",
    "        raise IndexError('Index out of bounds!')\n",
    "    return arr[index]"
   ]
  },
  {
   "cell_type": "code",
   "execution_count": 27,
   "id": "d446f430",
   "metadata": {},
   "outputs": [],
   "source": [
    "def insert(arr, index, item):\n",
    "    arr.insert(index, item)"
   ]
  },
  {
   "cell_type": "code",
   "execution_count": 28,
   "id": "0f0c946d",
   "metadata": {},
   "outputs": [],
   "source": [
    "def prepend(arr, item):\n",
    "    arr.insert(0, item)"
   ]
  },
  {
   "cell_type": "code",
   "execution_count": 29,
   "id": "32ab8b1b",
   "metadata": {},
   "outputs": [],
   "source": [
    "def pop(arr, index):\n",
    "    arr.pop(index)"
   ]
  },
  {
   "cell_type": "code",
   "execution_count": 30,
   "id": "f2c4316e",
   "metadata": {},
   "outputs": [],
   "source": [
    "def delete(arr, index):\n",
    "    if index >= len(arr):\n",
    "        raise IndexError('Index out of bounds!')\n",
    "    del arr[index]"
   ]
  },
  {
   "cell_type": "code",
   "execution_count": 52,
   "id": "86ba86d6",
   "metadata": {},
   "outputs": [],
   "source": [
    "def remove(arr, item):\n",
    "    arr[:] = [x for x in arr if x != item]"
   ]
  },
  {
   "cell_type": "code",
   "execution_count": 32,
   "id": "913ec0ca",
   "metadata": {},
   "outputs": [],
   "source": [
    "def find(arr, item):\n",
    "    try:\n",
    "        return arr.index(item)\n",
    "    except ValueError:\n",
    "        return -1"
   ]
  },
  {
   "cell_type": "code",
   "execution_count": 33,
   "id": "0a922fc3",
   "metadata": {},
   "outputs": [],
   "source": [
    "def resize(arr, new_capacity):\n",
    "    if new_capacity < len(arr):\n",
    "        del arr[new_capacity:]\n",
    "    else:\n",
    "        arr += [None] * (new_capacity - len(arr))"
   ]
  },
  {
   "cell_type": "markdown",
   "id": "8bdbbbe8",
   "metadata": {},
   "source": [
    "Test all functions"
   ]
  },
  {
   "cell_type": "code",
   "execution_count": 38,
   "id": "246bbf33",
   "metadata": {},
   "outputs": [
    {
     "data": {
      "text/plain": [
       "12"
      ]
     },
     "execution_count": 38,
     "metadata": {},
     "output_type": "execute_result"
    }
   ],
   "source": [
    "size(array1)"
   ]
  },
  {
   "cell_type": "code",
   "execution_count": 36,
   "id": "60574fad",
   "metadata": {},
   "outputs": [
    {
     "data": {
      "text/plain": [
       "[2, 3, 5, 7, 11, 13, 17, 19, 23, 29, 31, 2]"
      ]
     },
     "execution_count": 36,
     "metadata": {},
     "output_type": "execute_result"
    }
   ],
   "source": [
    "push(array1, 2)\n",
    "array1"
   ]
  },
  {
   "cell_type": "code",
   "execution_count": 37,
   "id": "1f4004bf",
   "metadata": {},
   "outputs": [
    {
     "data": {
      "text/plain": [
       "[2, 3, 5, 7, 11, 13, 17, 19, 23, 29, 31, 2]"
      ]
     },
     "execution_count": 37,
     "metadata": {},
     "output_type": "execute_result"
    }
   ],
   "source": [
    "array1"
   ]
  },
  {
   "cell_type": "code",
   "execution_count": 40,
   "id": "eaa54841",
   "metadata": {},
   "outputs": [
    {
     "data": {
      "text/plain": [
       "23"
      ]
     },
     "execution_count": 40,
     "metadata": {},
     "output_type": "execute_result"
    }
   ],
   "source": [
    "at(array1, 8)"
   ]
  },
  {
   "cell_type": "code",
   "execution_count": 42,
   "id": "1b6738ec",
   "metadata": {},
   "outputs": [
    {
     "data": {
      "text/plain": [
       "[2, 3, 5, 7, 11, 13, 17, 19, 23.3, 23.3, 23, 29, 31, 2]"
      ]
     },
     "execution_count": 42,
     "metadata": {},
     "output_type": "execute_result"
    }
   ],
   "source": [
    "insert(array1, 8, 23.3)\n",
    "array1"
   ]
  },
  {
   "cell_type": "code",
   "execution_count": 44,
   "id": "027d9eb2",
   "metadata": {},
   "outputs": [
    {
     "data": {
      "text/plain": [
       "[23.2, 23.2, 2, 3, 5, 7, 11, 13, 17, 19, 23.3, 23.3, 23, 29, 31, 2]"
      ]
     },
     "execution_count": 44,
     "metadata": {},
     "output_type": "execute_result"
    }
   ],
   "source": [
    "prepend(array1, 23.2)\n",
    "array1"
   ]
  },
  {
   "cell_type": "code",
   "execution_count": 48,
   "id": "c732f2d5",
   "metadata": {},
   "outputs": [
    {
     "data": {
      "text/plain": [
       "[2, 3, 5, 7, 11, 13, 17, 19, 23.3, 23.3, 23, 29, 31, 2]"
      ]
     },
     "execution_count": 48,
     "metadata": {},
     "output_type": "execute_result"
    }
   ],
   "source": [
    "pop(array1, 0)\n",
    "array1"
   ]
  },
  {
   "cell_type": "code",
   "execution_count": 50,
   "id": "4317293c",
   "metadata": {},
   "outputs": [
    {
     "data": {
      "text/plain": [
       "[2, 3, 5, 7, 11, 13, 17, 19, 23, 29, 31, 2]"
      ]
     },
     "execution_count": 50,
     "metadata": {},
     "output_type": "execute_result"
    }
   ],
   "source": [
    "delete(array1, 8)\n",
    "array1"
   ]
  },
  {
   "cell_type": "code",
   "execution_count": 55,
   "id": "70a8df9e",
   "metadata": {},
   "outputs": [
    {
     "data": {
      "text/plain": [
       "[3, 5, 7, 11, 13, 17, 19, 23, 29, 31]"
      ]
     },
     "execution_count": 55,
     "metadata": {},
     "output_type": "execute_result"
    }
   ],
   "source": [
    "remove(array1, 2)\n",
    "array1"
   ]
  },
  {
   "cell_type": "code",
   "execution_count": 56,
   "id": "d9a34f48",
   "metadata": {},
   "outputs": [
    {
     "data": {
      "text/plain": [
       "8"
      ]
     },
     "execution_count": 56,
     "metadata": {},
     "output_type": "execute_result"
    }
   ],
   "source": [
    "find(array1, 29)"
   ]
  },
  {
   "cell_type": "code",
   "execution_count": null,
   "id": "7bf6815f",
   "metadata": {},
   "outputs": [],
   "source": [
    "resize(array1, )"
   ]
  }
 ],
 "metadata": {
  "kernelspec": {
   "display_name": "Python 3 (ipykernel)",
   "language": "python",
   "name": "python3"
  },
  "language_info": {
   "codemirror_mode": {
    "name": "ipython",
    "version": 3
   },
   "file_extension": ".py",
   "mimetype": "text/x-python",
   "name": "python",
   "nbconvert_exporter": "python",
   "pygments_lexer": "ipython3",
   "version": "3.11.5"
  }
 },
 "nbformat": 4,
 "nbformat_minor": 5
}
