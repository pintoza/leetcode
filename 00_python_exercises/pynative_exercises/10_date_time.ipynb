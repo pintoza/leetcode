{
 "cells": [
  {
   "cell_type": "code",
   "execution_count": 21,
   "id": "58f5798b",
   "metadata": {},
   "outputs": [
    {
     "name": "stdout",
     "output_type": "stream",
     "text": [
      "2023-10-20 18:30:27.948852\n"
     ]
    }
   ],
   "source": [
    "import datetime\n",
    "\n",
    "print(datetime.datetime.now())"
   ]
  },
  {
   "cell_type": "code",
   "execution_count": 6,
   "id": "16444bf3",
   "metadata": {},
   "outputs": [
    {
     "name": "stdout",
     "output_type": "stream",
     "text": [
      "18:20:53.984774\n"
     ]
    }
   ],
   "source": [
    "print(datetime.datetime.now().time())"
   ]
  },
  {
   "cell_type": "code",
   "execution_count": 14,
   "id": "41bbaced",
   "metadata": {},
   "outputs": [
    {
     "name": "stdout",
     "output_type": "stream",
     "text": [
      "2023-10-20 18:27:00\n"
     ]
    }
   ],
   "source": [
    "date_string = \"Oct 20 2023 6:27PM\"\n",
    "\n",
    "datetime_object = datetime.strptime(date_string, '%b %d %Y %I:%M%p')\n",
    "\n",
    "print(datetime_object)"
   ]
  },
  {
   "cell_type": "code",
   "execution_count": 23,
   "id": "d7443dcd",
   "metadata": {},
   "outputs": [
    {
     "name": "stdout",
     "output_type": "stream",
     "text": [
      "2023-10-20 00:00:00\n",
      "2023-10-13 00:00:00\n"
     ]
    }
   ],
   "source": [
    "from datetime import datetime, timedelta\n",
    "\n",
    "date = datetime(2023, 10, 20)\n",
    "print(date)\n",
    "\n",
    "subtract = 7\n",
    "\n",
    "new_date = date - timedelta(days=subtract)\n",
    "print(new_date)"
   ]
  },
  {
   "cell_type": "code",
   "execution_count": 29,
   "id": "e38be9ab",
   "metadata": {},
   "outputs": [
    {
     "name": "stdout",
     "output_type": "stream",
     "text": [
      "The day is: Friday 20 October 2023\n"
     ]
    }
   ],
   "source": [
    "given_date = datetime(2023, 10, 20)\n",
    "\n",
    "print(\"The day is:\", given_date.strftime('%A %d %B %Y'))"
   ]
  },
  {
   "cell_type": "code",
   "execution_count": 30,
   "id": "d2194a5d",
   "metadata": {},
   "outputs": [
    {
     "name": "stdout",
     "output_type": "stream",
     "text": [
      "4\n",
      "Friday\n"
     ]
    }
   ],
   "source": [
    "from datetime import datetime\n",
    "\n",
    "given_date = datetime(2023, 10, 20)\n",
    "\n",
    "# to get weekday as integer\n",
    "print(given_date.today().weekday())\n",
    "\n",
    "# To get the english name of the weekday\n",
    "print(given_date.strftime('%A'))"
   ]
  },
  {
   "cell_type": "code",
   "execution_count": 31,
   "id": "38c8240a",
   "metadata": {},
   "outputs": [
    {
     "name": "stdout",
     "output_type": "stream",
     "text": [
      "Given date\n",
      "2020-03-22 10:00:00\n",
      "New Date\n",
      "2020-03-29 22:00:00\n"
     ]
    }
   ],
   "source": [
    "from datetime import datetime, timedelta\n",
    "\n",
    "given_date = datetime(2020, 3, 22, 10, 00, 00)\n",
    "print(\"Given date\")\n",
    "print(given_date)\n",
    "\n",
    "days_to_add = 7\n",
    "res_date = given_date + timedelta(days=days_to_add, hours=12)\n",
    "print(\"New Date\")\n",
    "print(res_date)"
   ]
  },
  {
   "cell_type": "code",
   "execution_count": 33,
   "id": "af13b03d",
   "metadata": {},
   "outputs": [
    {
     "name": "stdout",
     "output_type": "stream",
     "text": [
      "2024-02-20\n"
     ]
    }
   ],
   "source": [
    "from datetime import datetime\n",
    "\n",
    "from dateutil.relativedelta import relativedelta\n",
    "\n",
    "given_date = datetime(2023, 10, 20).date()\n",
    "\n",
    "months_to_add = 4\n",
    "new_date = given_date + relativedelta(months =+ months_to_add)\n",
    "print(new_date)"
   ]
  },
  {
   "cell_type": "code",
   "execution_count": 34,
   "id": "e7a52a1e",
   "metadata": {},
   "outputs": [
    {
     "name": "stdout",
     "output_type": "stream",
     "text": [
      "date_2 is greater\n",
      "Difference is 205 days\n"
     ]
    }
   ],
   "source": [
    "from datetime import datetime\n",
    "\n",
    "# 2020-02-25\n",
    "date_1 = datetime(2020, 2, 25).date()\n",
    "# 2020-09-17\n",
    "date_2 = datetime(2020, 9, 17).date()\n",
    "\n",
    "delta = None\n",
    "if date_1 > date_2:\n",
    "    print(\"date_1 is greater\")\n",
    "    delta = date_1 - date_2\n",
    "else:\n",
    "    print(\"date_2 is greater\")\n",
    "    delta = date_2 - date_1\n",
    "print(\"Difference is\", delta.days, \"days\")"
   ]
  }
 ],
 "metadata": {
  "kernelspec": {
   "display_name": "Python 3 (ipykernel)",
   "language": "python",
   "name": "python3"
  },
  "language_info": {
   "codemirror_mode": {
    "name": "ipython",
    "version": 3
   },
   "file_extension": ".py",
   "mimetype": "text/x-python",
   "name": "python",
   "nbconvert_exporter": "python",
   "pygments_lexer": "ipython3",
   "version": "3.11.4"
  }
 },
 "nbformat": 4,
 "nbformat_minor": 5
}
