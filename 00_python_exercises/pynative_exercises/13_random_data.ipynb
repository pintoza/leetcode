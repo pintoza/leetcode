{
 "cells": [
  {
   "cell_type": "code",
   "execution_count": 1,
   "id": "1d6e6a5b",
   "metadata": {},
   "outputs": [
    {
     "name": "stdout",
     "output_type": "stream",
     "text": [
      "330, 855, 815, "
     ]
    }
   ],
   "source": [
    "import random\n",
    "\n",
    "for num in range(3):\n",
    "    print(random.randrange(100, 999, 5), end=\", \")"
   ]
  },
  {
   "cell_type": "code",
   "execution_count": 3,
   "id": "84df04ba",
   "metadata": {},
   "outputs": [
    {
     "name": "stdout",
     "output_type": "stream",
     "text": [
      "[9612253153, 3187721380]\n"
     ]
    }
   ],
   "source": [
    "import random\n",
    "\n",
    "lotter_tickets_list = []\n",
    "\n",
    "for i in range(100):\n",
    "    lotter_tickets_list.append(random.randrange(1000000000, 9999999999))\n",
    "    \n",
    "winners = random.sample(lotter_tickets_list, 2)\n",
    "print(winners)"
   ]
  },
  {
   "cell_type": "code",
   "execution_count": 5,
   "id": "ad339be9",
   "metadata": {},
   "outputs": [
    {
     "name": "stdout",
     "output_type": "stream",
     "text": [
      "694569\n"
     ]
    }
   ],
   "source": [
    "import secrets\n",
    "\n",
    "secretsGenerator = secrets.SystemRandom()\n",
    "\n",
    "otp = secretsGenerator.randrange(100000, 999999)\n",
    "\n",
    "print(otp)"
   ]
  },
  {
   "cell_type": "code",
   "execution_count": 27,
   "id": "c9a999f9",
   "metadata": {},
   "outputs": [
    {
     "name": "stdout",
     "output_type": "stream",
     "text": [
      "t\n"
     ]
    }
   ],
   "source": [
    "import random\n",
    "\n",
    "name = \"pynative\"\n",
    "\n",
    "char = random.choice(name)\n",
    "\n",
    "print(char)"
   ]
  },
  {
   "cell_type": "code",
   "execution_count": 29,
   "id": "53f5bae8",
   "metadata": {},
   "outputs": [
    {
     "name": "stdout",
     "output_type": "stream",
     "text": [
      "Oiltj\n"
     ]
    }
   ],
   "source": [
    "import random\n",
    "import string\n",
    "\n",
    "def randomString(stringLength):\n",
    "    letters = string.ascii_letters\n",
    "    return \"\".join(random.choice(letters) for i in range(stringLength))\n",
    "\n",
    "print(randomString(5))"
   ]
  },
  {
   "cell_type": "code",
   "execution_count": 34,
   "id": "c0065a19",
   "metadata": {},
   "outputs": [
    {
     "name": "stdout",
     "output_type": "stream",
     "text": [
      "Your password is:  d~3G!D)wgA\n"
     ]
    }
   ],
   "source": [
    "import random\n",
    "import string\n",
    "\n",
    "def randomPassword():\n",
    "    randomSource = string.ascii_letters + string.digits + string.punctuation\n",
    "    password = random.sample(randomSource, 6)\n",
    "    password += random.sample(string.ascii_uppercase, 2)\n",
    "    password += random.choice(string.digits)\n",
    "    password += random.choice(string.punctuation)\n",
    "\n",
    "    passwordList = list(password)\n",
    "    random.SystemRandom().shuffle(passwordList)\n",
    "    password = ''.join(passwordList)\n",
    "    return password\n",
    "\n",
    "print (\"Your password is: \", randomPassword())"
   ]
  },
  {
   "cell_type": "code",
   "execution_count": 35,
   "id": "282e86d0",
   "metadata": {},
   "outputs": [
    {
     "name": "stdout",
     "output_type": "stream",
     "text": [
      "First Random float is  0.931128073004091\n",
      "Second Random float is  0.931128073004091\n",
      "Multiplication is  86.84755742553901\n"
     ]
    }
   ],
   "source": [
    "import random\n",
    "\n",
    "num1  = random.random()\n",
    "print(\"First Random float is \", num1)\n",
    "num2 = random.uniform(9.5, 99.5)\n",
    "print(\"Second Random float is \", num1)\n",
    "\n",
    "num3 = num1 * num2\n",
    "print(\"Multiplication is \", num3)"
   ]
  },
  {
   "cell_type": "code",
   "execution_count": 36,
   "id": "72ffc453",
   "metadata": {},
   "outputs": [
    {
     "name": "stdout",
     "output_type": "stream",
     "text": [
      "Random secure Hexadecimal token is  e0bb7316c079d49240083c0667c5bdaac2906182998d9baed1a4a54623ec368a202f02c60069a7de918616a63aff32915084cc3e46f8637820b5392a5a95f6e2\n",
      "Random secure URL is  2K-axs7s7BOnJW47K4XylpHSLdEQnCCbnoNMSyil4ZWiLV0eFYu4BxH2VSkS2yuuSmuT3B2Y9cZY59PupJnVXg\n"
     ]
    }
   ],
   "source": [
    "import secrets\n",
    "\n",
    "print(\"Random secure Hexadecimal token is \", secrets.token_hex(64))\n",
    "print(\"Random secure URL is \", secrets.token_urlsafe(64))"
   ]
  },
  {
   "cell_type": "code",
   "execution_count": 43,
   "id": "37d889d6",
   "metadata": {},
   "outputs": [
    {
     "name": "stdout",
     "output_type": "stream",
     "text": [
      "Randomly selecting same number of a dice\n",
      "4\n",
      "4\n",
      "4\n",
      "4\n",
      "4\n"
     ]
    }
   ],
   "source": [
    "import random\n",
    "\n",
    "dice = [1, 2, 3, 4, 5, 6]\n",
    "print(\"Randomly selecting same number of a dice\")\n",
    "for i in range(5):\n",
    "    random.seed(25)\n",
    "    print(random.choice(dice))"
   ]
  },
  {
   "cell_type": "code",
   "execution_count": 44,
   "id": "a7906f4f",
   "metadata": {},
   "outputs": [
    {
     "name": "stdout",
     "output_type": "stream",
     "text": [
      "Printing random date between 1/1/2016  and  12/12/2018\n",
      "Random Date =  04/06/2018\n"
     ]
    }
   ],
   "source": [
    "import random\n",
    "import time\n",
    "\n",
    "def getRandomDate(startDate, endDate ):\n",
    "    print(\"Printing random date between\", startDate, \" and \", endDate)\n",
    "    randomGenerator = random.random()\n",
    "    dateFormat = '%m/%d/%Y'\n",
    "\n",
    "    startTime = time.mktime(time.strptime(startDate, dateFormat))\n",
    "    endTime = time.mktime(time.strptime(endDate, dateFormat))\n",
    "\n",
    "    randomTime = startTime + randomGenerator * (endTime - startTime)\n",
    "    randomDate = time.strftime(dateFormat, time.localtime(randomTime))\n",
    "    return randomDate\n",
    "\n",
    "print (\"Random Date = \", getRandomDate(\"1/1/2016\", \"12/12/2018\"))"
   ]
  }
 ],
 "metadata": {
  "kernelspec": {
   "display_name": "Python 3 (ipykernel)",
   "language": "python",
   "name": "python3"
  },
  "language_info": {
   "codemirror_mode": {
    "name": "ipython",
    "version": 3
   },
   "file_extension": ".py",
   "mimetype": "text/x-python",
   "name": "python",
   "nbconvert_exporter": "python",
   "pygments_lexer": "ipython3",
   "version": "3.11.4"
  }
 },
 "nbformat": 4,
 "nbformat_minor": 5
}
