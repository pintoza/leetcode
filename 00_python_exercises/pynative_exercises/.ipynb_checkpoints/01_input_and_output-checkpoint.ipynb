{
 "cells": [
  {
   "cell_type": "code",
   "execution_count": 1,
   "id": "ae25e99b",
   "metadata": {},
   "outputs": [
    {
     "name": "stdout",
     "output_type": "stream",
     "text": [
      "Gimme a number: 10\n",
      "Gimme another number: 5\n",
      "50\n"
     ]
    }
   ],
   "source": [
    "num1 = int(input(\"Gimme a number: \"))\n",
    "num2 = int(input(\"Gimme another number: \"))\n",
    "\n",
    "print(num1 * num2)"
   ]
  },
  {
   "cell_type": "code",
   "execution_count": 3,
   "id": "247bab02",
   "metadata": {},
   "outputs": [
    {
     "name": "stdout",
     "output_type": "stream",
     "text": [
      "My**Name**IsZach\n"
     ]
    }
   ],
   "source": [
    "print(\"My\", \"Name\", \"Is\" \"Zach\", sep=\"**\")"
   ]
  },
  {
   "cell_type": "code",
   "execution_count": 4,
   "id": "f200a1e7",
   "metadata": {},
   "outputs": [
    {
     "name": "stdout",
     "output_type": "stream",
     "text": [
      "34535.23\n"
     ]
    }
   ],
   "source": [
    "num = 34535.23423423423\n",
    "\n",
    "print(\"%.2f\" % num)"
   ]
  },
  {
   "cell_type": "code",
   "execution_count": 6,
   "id": "a3b72b65",
   "metadata": {},
   "outputs": [
    {
     "name": "stdout",
     "output_type": "stream",
     "text": [
      "I have $1000, so I can buy 3 of those at $300 each.\n"
     ]
    }
   ],
   "source": [
    "totalMoney = 1000\n",
    "quantity = 3\n",
    "price = 300\n",
    "\n",
    "print(f\"I have ${totalMoney}, so I can buy {quantity} of those at ${price} each.\")"
   ]
  }
 ],
 "metadata": {
  "kernelspec": {
   "display_name": "Python 3 (ipykernel)",
   "language": "python",
   "name": "python3"
  },
  "language_info": {
   "codemirror_mode": {
    "name": "ipython",
    "version": 3
   },
   "file_extension": ".py",
   "mimetype": "text/x-python",
   "name": "python",
   "nbconvert_exporter": "python",
   "pygments_lexer": "ipython3",
   "version": "3.11.4"
  }
 },
 "nbformat": 4,
 "nbformat_minor": 5
}
