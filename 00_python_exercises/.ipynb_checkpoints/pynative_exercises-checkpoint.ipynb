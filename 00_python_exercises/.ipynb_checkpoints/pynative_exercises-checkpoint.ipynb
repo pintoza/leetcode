{
 "cells": [
  {
   "cell_type": "markdown",
   "id": "ffb83caf",
   "metadata": {},
   "source": [
    "# Input and Output"
   ]
  },
  {
   "cell_type": "code",
   "execution_count": 2,
   "id": "c2fceed0",
   "metadata": {},
   "outputs": [
    {
     "name": "stdout",
     "output_type": "stream",
     "text": [
      "Name**Is**Zach\n"
     ]
    }
   ],
   "source": [
    "print(\"Name\", \"Is\", \"Zach\", sep=\"**\")"
   ]
  },
  {
   "cell_type": "code",
   "execution_count": 5,
   "id": "15b9b287",
   "metadata": {},
   "outputs": [
    {
     "name": "stdout",
     "output_type": "stream",
     "text": [
      "1750\n"
     ]
    }
   ],
   "source": [
    "num = 1000\n",
    "print(\"%o\" % num)"
   ]
  },
  {
   "cell_type": "code",
   "execution_count": 9,
   "id": "72deb314",
   "metadata": {},
   "outputs": [
    {
     "name": "stdout",
     "output_type": "stream",
     "text": [
      "234234.13\n"
     ]
    }
   ],
   "source": [
    "num = 234234.12623423\n",
    "print(\"%.2f\" % num)"
   ]
  },
  {
   "cell_type": "code",
   "execution_count": 11,
   "id": "34e73141",
   "metadata": {},
   "outputs": [
    {
     "name": "stdout",
     "output_type": "stream",
     "text": [
      "Please choose a number: 4\n",
      "Please choose a number: 45645\n",
      "Please choose a number: 232323.3\n",
      "Please choose a number: 343\n",
      "Please choose a number: 1\n"
     ]
    },
    {
     "data": {
      "text/plain": [
       "[4.0, 45645.0, 232323.3, 343.0, 1.0]"
      ]
     },
     "execution_count": 11,
     "metadata": {},
     "output_type": "execute_result"
    }
   ],
   "source": [
    "numbers = []\n",
    "\n",
    "for i in range(5):\n",
    "    (x) = float(input(\"Please choose a number: \"))\n",
    "    numbers.append(x)\n",
    "    \n",
    "numbers"
   ]
  },
  {
   "cell_type": "code",
   "execution_count": 18,
   "id": "c5ee183c",
   "metadata": {},
   "outputs": [
    {
     "name": "stdout",
     "output_type": "stream",
     "text": [
      "Please give me three names: Zach, Sally, Tom\n",
      "Zach,\n",
      "Sally,\n",
      "Tom\n"
     ]
    }
   ],
   "source": [
    "name1, name2, name3 = input(\"Please give me three names: \").split()\n",
    "\n",
    "print(name1)\n",
    "print(name2)\n",
    "print(name3)"
   ]
  },
  {
   "cell_type": "code",
   "execution_count": 21,
   "id": "fab72967",
   "metadata": {},
   "outputs": [
    {
     "name": "stdout",
     "output_type": "stream",
     "text": [
      "I have $1000 dollars, so I can buy 3 of the items at a price of $333 each.\n"
     ]
    }
   ],
   "source": [
    "money = 1000\n",
    "quantity = 3\n",
    "price = 333\n",
    "\n",
    "print(f\"I have ${money} dollars, so I can buy {quantity} of the items at a price of ${price} each.\")"
   ]
  },
  {
   "cell_type": "markdown",
   "id": "7bdc1824",
   "metadata": {},
   "source": [
    "# Conditionals and Loops"
   ]
  },
  {
   "cell_type": "code",
   "execution_count": 3,
   "id": "02d6827d",
   "metadata": {},
   "outputs": [
    {
     "name": "stdout",
     "output_type": "stream",
     "text": [
      "1\n",
      "2\n",
      "3\n",
      "4\n",
      "5\n",
      "6\n",
      "7\n",
      "8\n",
      "9\n",
      "10\n"
     ]
    }
   ],
   "source": [
    "for i in range(1,11):\n",
    "    print(i)"
   ]
  },
  {
   "cell_type": "code",
   "execution_count": 19,
   "id": "2d7db77e",
   "metadata": {},
   "outputs": [
    {
     "name": "stdout",
     "output_type": "stream",
     "text": [
      "Please choose number of rows: 10\n",
      "1 \n",
      "1 2 \n",
      "1 2 3 \n",
      "1 2 3 4 \n",
      "1 2 3 4 5 \n",
      "1 2 3 4 5 6 \n",
      "1 2 3 4 5 6 7 \n",
      "1 2 3 4 5 6 7 8 \n",
      "1 2 3 4 5 6 7 8 9 \n",
      "1 2 3 4 5 6 7 8 9 10 \n"
     ]
    }
   ],
   "source": [
    "rows = int(input(\"Please choose number of rows: \"))\n",
    "\n",
    "for i in range(1, rows+1):\n",
    "    for j in range(1, i+1):\n",
    "        print(j, end=\" \")\n",
    "    print(\"\")"
   ]
  },
  {
   "cell_type": "code",
   "execution_count": 20,
   "id": "6d90fd09",
   "metadata": {},
   "outputs": [
    {
     "name": "stdout",
     "output_type": "stream",
     "text": [
      "Please choose a number: 10\n",
      "55\n"
     ]
    }
   ],
   "source": [
    "number = int(input(\"Please choose a number: \"))\n",
    "\n",
    "sum = 0\n",
    "\n",
    "for i in range(1, number+1):\n",
    "    sum += i\n",
    "    \n",
    "print(sum)"
   ]
  },
  {
   "cell_type": "code",
   "execution_count": 30,
   "id": "dee3d474",
   "metadata": {},
   "outputs": [
    {
     "name": "stdout",
     "output_type": "stream",
     "text": [
      "Please choose a number: 3\n",
      "3\n",
      "6\n",
      "9\n",
      "12\n",
      "15\n",
      "18\n",
      "21\n",
      "24\n",
      "27\n",
      "30\n"
     ]
    }
   ],
   "source": [
    "number = int(input(\"Please choose a number: \"))\n",
    "\n",
    "j = 1\n",
    "\n",
    "for i in range(1, 11):\n",
    "    print(number*j)\n",
    "    j += 1"
   ]
  },
  {
   "cell_type": "code",
   "execution_count": 33,
   "id": "02e57625",
   "metadata": {},
   "outputs": [
    {
     "name": "stdout",
     "output_type": "stream",
     "text": [
      "75\n",
      "150\n",
      "145\n"
     ]
    }
   ],
   "source": [
    "numbers = [12, 75, 150, 180, 145, 525, 50]\n",
    "\n",
    "for item in numbers:\n",
    "    if item > 500:\n",
    "        break\n",
    "    elif item > 150:\n",
    "        continue\n",
    "    elif item % 5 == 0:\n",
    "        print(item)"
   ]
  },
  {
   "cell_type": "code",
   "execution_count": 35,
   "id": "05259b55",
   "metadata": {},
   "outputs": [
    {
     "name": "stdout",
     "output_type": "stream",
     "text": [
      "Please give me a number: 12412312\n",
      "8\n"
     ]
    }
   ],
   "source": [
    "number = (input(\"Please give me a number: \"))\n",
    "\n",
    "print(len(number))"
   ]
  }
 ],
 "metadata": {
  "kernelspec": {
   "display_name": "Python 3 (ipykernel)",
   "language": "python",
   "name": "python3"
  },
  "language_info": {
   "codemirror_mode": {
    "name": "ipython",
    "version": 3
   },
   "file_extension": ".py",
   "mimetype": "text/x-python",
   "name": "python",
   "nbconvert_exporter": "python",
   "pygments_lexer": "ipython3",
   "version": "3.11.4"
  }
 },
 "nbformat": 4,
 "nbformat_minor": 5
}
