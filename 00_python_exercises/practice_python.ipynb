{
 "cells": [
  {
   "cell_type": "code",
   "execution_count": 134,
   "id": "559fe594",
   "metadata": {},
   "outputs": [
    {
     "name": "stdout",
     "output_type": "stream",
     "text": [
      "Hi, what is your name? Zach\n",
      "Hi, what is your age? 25\n",
      "Hello, Zach. You will be 100 in 2098, which is in 75 years!\n"
     ]
    }
   ],
   "source": [
    "def get_user_name():\n",
    "    return input(\"Hi, what is your name? \")\n",
    "\n",
    "def get_user_age():\n",
    "    return int(input(\"Hi, what is your age? \"))\n",
    "\n",
    "def years_until_100(age):\n",
    "    return 100 - age\n",
    "\n",
    "def year_of_100(age):\n",
    "    return 2123 - age\n",
    "\n",
    "def main():\n",
    "    name = get_user_name()\n",
    "    age = get_user_age()\n",
    "    years = years_until_100(age)\n",
    "    year = year_of_100(age)\n",
    "    print(f\"Hello, {name}. You will be 100 in {year}, which is in {years} years!\")\n",
    "    \n",
    "if __name__ == \"__main__\":\n",
    "    main()"
   ]
  },
  {
   "cell_type": "code",
   "execution_count": 137,
   "id": "2d4036ed",
   "metadata": {},
   "outputs": [
    {
     "name": "stdout",
     "output_type": "stream",
     "text": [
      "Please choose the first number: 44\n",
      "Please choose the second number: 4\n",
      "Your number, 44, is even!\n",
      "Your number, 44, is also divisible by four!\n",
      "Also, your first number, 44, is divisible by your second number, 4!\n"
     ]
    }
   ],
   "source": [
    "def get_first_number():\n",
    "    return int(input(\"Please choose the first number: \"))\n",
    "\n",
    "def get_second_number():\n",
    "    return int(input(\"Please choose the second number: \"))\n",
    "\n",
    "def check_if_even(first):\n",
    "    if first % 2 == 0:\n",
    "        print(f\"Your number, {first}, is even!\")\n",
    "    else:\n",
    "        print(f\"Your number, {first}, is not even.\")\n",
    "\n",
    "def check_if_div_by_4(first):\n",
    "    if first % 2 == 0:\n",
    "        print(f\"Your number, {first}, is also divisible by four!\")\n",
    "        \n",
    "def first_div_by_second(first, second):\n",
    "    if first % second == 0:\n",
    "        print(f\"Also, your first number, {first}, is divisible by your second number, {second}!\")\n",
    "        \n",
    "def main():\n",
    "    first = get_first_number()\n",
    "    second = get_second_number()\n",
    "    \n",
    "    check_if_even(first)\n",
    "    check_if_div_by_4(first)\n",
    "    first_div_by_second(first, second)\n",
    "    \n",
    "if __name__ == \"__main__\":\n",
    "    main()"
   ]
  },
  {
   "cell_type": "code",
   "execution_count": 141,
   "id": "1a87a21a",
   "metadata": {},
   "outputs": [
    {
     "name": "stdout",
     "output_type": "stream",
     "text": [
      "Please choose a number from 1-20: 14\n",
      "[1, 2, 3, 4, 5, 6, 7, 8, 9, 10, 11, 12, 13, 14]\n"
     ]
    }
   ],
   "source": [
    "nums = [1, 2, 3, 4, 5, 6, 7, 8, 9, 10, 11, 12, 13, 14, 15, 16, 17, 18, 19, 20]\n",
    "\n",
    "list = []\n",
    "\n",
    "def get_number():\n",
    "    return int(input(\"Please choose a number from 1-20: \"))\n",
    "\n",
    "def append_list_by_number(number):\n",
    "    global list\n",
    "    for num in nums:\n",
    "        if num <= number:\n",
    "            list.append(num)\n",
    "    return list\n",
    "\n",
    "def main():\n",
    "    number = get_number()\n",
    "    append_list_by_number(number)\n",
    "    print(list)\n",
    "\n",
    "if __name__ == \"__main__\":\n",
    "    main()"
   ]
  },
  {
   "cell_type": "code",
   "execution_count": 42,
   "id": "1936b4f7",
   "metadata": {},
   "outputs": [
    {
     "name": "stdout",
     "output_type": "stream",
     "text": [
      "Please choose a number from 1-100: 100\n",
      "Divisors of 100 are: [1, 2, 4, 5, 10, 20, 25, 50]\n"
     ]
    }
   ],
   "source": [
    "def main():\n",
    "    number = get_user_input()\n",
    "    numbers_less_than_input = generate_numbers_less_than_input(number)\n",
    "    divisors = find_divisors(numbers_less_than_input, number)\n",
    "    print(f\"Divisors of {number} are: {divisors}\")\n",
    "\n",
    "def get_user_input():\n",
    "    return int(input(\"Please choose a number from 1-100: \"))\n",
    "\n",
    "def generate_numbers_less_than_input(number):\n",
    "    return [i for i in range(1, number)]\n",
    "\n",
    "def find_divisors(numbers, target_number):\n",
    "    return [num for num in numbers if target_number % num == 0]\n",
    "\n",
    "if __name__ == \"__main__\":\n",
    "    main()"
   ]
  },
  {
   "cell_type": "code",
   "execution_count": 47,
   "id": "eaa23f4c",
   "metadata": {},
   "outputs": [
    {
     "name": "stdout",
     "output_type": "stream",
     "text": [
      "List A: [78, 79, 13, 44, 27, 67, 74, 30, 16, 48, 3, 65, 24, 22, 21, 34, 35, 66, 57, 26]\n",
      "List B: [61, 27, 1, 71, 96, 44, 5, 65, 47, 38, 24, 52, 59, 26, 10, 18, 29, 83, 76, 92, 17, 40, 85, 64, 48]\n",
      "Common elements in List A & List B: [65, 44, 48, 24, 26, 27]\n"
     ]
    }
   ],
   "source": [
    "import random\n",
    "\n",
    "def main():\n",
    "    \n",
    "    list_a, list_b = populate_lists_random_values()\n",
    "    print(f\"List A: {list_a}\")\n",
    "    print(f\"List B: {list_b}\")\n",
    "    \n",
    "    common_elements = find_common_elements(list_a, list_b)\n",
    "    print(f\"Common elements in List A & List B: {common_elements}\")\n",
    "\n",
    "def find_common_elements(list_a, list_b):\n",
    "    return list(set(list_a) & set(list_b))\n",
    "    \n",
    "def populate_lists_random_values():\n",
    "    return random.sample(range(1, 100), 20), random.sample(range(1, 100), 25)\n",
    "    \n",
    "if __name__ == \"__main__\":\n",
    "    main()"
   ]
  },
  {
   "cell_type": "code",
   "execution_count": 54,
   "id": "78680801",
   "metadata": {},
   "outputs": [
    {
     "name": "stdout",
     "output_type": "stream",
     "text": [
      "Please give me a string: racecar\n",
      "Yes, racecar is indeed a palindrome!\n"
     ]
    }
   ],
   "source": [
    "def main():\n",
    "    string = get_user_string()\n",
    "    \n",
    "    if is_palindrome(string):\n",
    "        print(f\"Yes, {string} is indeed a palindrome!\")\n",
    "    else:\n",
    "        print(f\"Sorry, {string} is not a palindrome.\")\n",
    "\n",
    "def get_user_string():\n",
    "    return str(input(\"Please give me a string: \"))\n",
    "\n",
    "def is_palindrome(string):\n",
    "    return string[0::] == string[::-1]\n",
    "\n",
    "if __name__ == \"__main__\":\n",
    "    main()"
   ]
  },
  {
   "cell_type": "code",
   "execution_count": 64,
   "id": "68ce2317",
   "metadata": {},
   "outputs": [
    {
     "name": "stdout",
     "output_type": "stream",
     "text": [
      "[48, 14, 23, 46, 89, 7, 25, 10, 43, 67, 75, 2, 93, 79, 86, 12, 19, 63, 51, 82, 27, 59, 76, 78, 11, 84, 92, 50, 44, 85, 68, 36, 90, 65, 8, 38, 9, 39, 72, 18, 42, 91, 16, 87, 28, 94, 47, 3, 66, 6]\n",
      "[48, 14, 46, 10, 2, 86, 12, 82, 76, 78, 84, 92, 50, 44, 68, 36, 90, 8, 38, 72, 18, 42, 16, 28, 94, 66, 6]\n"
     ]
    }
   ],
   "source": [
    "import random\n",
    "\n",
    "def get_even_numbers(numbers):\n",
    "    even_numbers = []\n",
    "    for num in numbers:\n",
    "        if num % 2 == 0:\n",
    "            even_numbers.append(num)\n",
    "    return even_numbers\n",
    "            \n",
    "def generate_random_list():\n",
    "    return random.sample(range(1, 100), 50)\n",
    "\n",
    "def main():\n",
    "    numbers = generate_random_list()\n",
    "    even_numbers = get_even_numbers(numbers)\n",
    "    print(numbers)\n",
    "    print(even_numbers)\n",
    "    \n",
    "if __name__ == \"__main__\":\n",
    "    main()"
   ]
  },
  {
   "cell_type": "code",
   "execution_count": 81,
   "id": "b484e45f",
   "metadata": {},
   "outputs": [
    {
     "name": "stdout",
     "output_type": "stream",
     "text": [
      "Rock, Paper, Scissors, shoot: Rock\n",
      "CPU chose Scissors\n",
      "Current Score - You: 1, CPU: 0\n",
      "Rock, Paper, Scissors, shoot: Rock\n",
      "CPU chose Paper\n",
      "Current Score - You: 1, CPU: 1\n",
      "Rock, Paper, Scissors, shoot: rock\n",
      "CPU chose Paper\n",
      "Current Score - You: 1, CPU: 2\n",
      "Rock, Paper, Scissors, shoot: Rock\n",
      "CPU chose Rock\n",
      "Current Score - You: 1, CPU: 2\n",
      "Rock, Paper, Scissors, shoot: Rock\n",
      "CPU chose Paper\n",
      "Current Score - You: 1, CPU: 3\n",
      "CPU wins!\n"
     ]
    }
   ],
   "source": [
    "import random\n",
    "\n",
    "user_score = 0  \n",
    "cpu_score = 0   \n",
    "\n",
    "def get_user_input():\n",
    "    return input(\"Rock, Paper, Scissors, shoot: \").capitalize()\n",
    "\n",
    "def get_cpu_input():\n",
    "    return random.choice([\"Rock\", \"Paper\", \"Scissors\"])\n",
    "\n",
    "def compare_rps(user, cpu):\n",
    "    global user_score, cpu_score  \n",
    "    if user == \"Rock\" and cpu == \"Paper\":\n",
    "        cpu_score += 1  \n",
    "    elif user == \"Paper\" and cpu == \"Rock\":\n",
    "        user_score += 1 \n",
    "    elif user == \"Paper\" and cpu == \"Scissors\":\n",
    "        cpu_score += 1\n",
    "    elif user == \"Scissors\" and cpu == \"Paper\":\n",
    "        user_score += 1  \n",
    "    elif user == \"Rock\" and cpu == \"Scissors\":\n",
    "        user_score += 1 \n",
    "    elif user == \"Scissors\" and cpu == \"Rock\":\n",
    "        cpu_score += 1\n",
    "        \n",
    "def main():\n",
    "    while user_score < 3 and cpu_score < 3:  \n",
    "        user = get_user_input()\n",
    "        cpu = get_cpu_input()\n",
    "        print(f\"CPU chose {cpu}\")\n",
    "        compare_rps(user, cpu)\n",
    "        print(f\"Current Score - You: {user_score}, CPU: {cpu_score}\")\n",
    "    print(\"You win!\" if user_score == 3 else \"CPU wins!\") \n",
    "\n",
    "if __name__ == \"__main__\":\n",
    "    main()"
   ]
  },
  {
   "cell_type": "code",
   "execution_count": 97,
   "id": "40194c40",
   "metadata": {},
   "outputs": [
    {
     "name": "stdout",
     "output_type": "stream",
     "text": [
      "Please choose a number from 1-100: 50\n",
      "Too low!\n",
      "Please choose a number from 1-100: 75\n",
      "Too low!\n",
      "Please choose a number from 1-100: 87\n",
      "Too low!\n",
      "Please choose a number from 1-100: 94\n",
      "Too high!\n",
      "Please choose a number from 1-100: 90\n",
      "Too low!\n",
      "Please choose a number from 1-100: 92\n",
      "Too high!\n",
      "Please choose a number from 1-100: 91\n",
      "Congrats! You correctly guessed 91, and it only took you 7 tries!\n"
     ]
    }
   ],
   "source": [
    "import random\n",
    "\n",
    "guess_count = 0\n",
    "\n",
    "def generate_random_number_1_to_100():\n",
    "    return random.choice(range(1, 100))\n",
    "\n",
    "def get_user_input():\n",
    "    return int(input(\"Please choose a number from 1-100: \"))\n",
    "\n",
    "def main():\n",
    "    global guess_count\n",
    "    guess = get_user_input()\n",
    "    guess_count += 1\n",
    "    number = generate_random_number_1_to_100()\n",
    "    while guess != number:\n",
    "        if guess > number:\n",
    "            print(\"Too high!\")\n",
    "        else:\n",
    "            print(\"Too low!\")\n",
    "        guess = get_user_input()\n",
    "        guess_count += 1\n",
    "    print(f\"Congrats! You correctly guessed {number}, and it only took you {guess_count} tries!\")\n",
    "\n",
    "if __name__ == \"__main__\":\n",
    "    main()"
   ]
  },
  {
   "cell_type": "code",
   "execution_count": 129,
   "id": "860fef85",
   "metadata": {},
   "outputs": [
    {
     "name": "stdout",
     "output_type": "stream",
     "text": [
      "Please choose any number: 97\n",
      "Congrats, 97 is a prime!\n"
     ]
    }
   ],
   "source": [
    "def is_prime(number):\n",
    "    for i in range(2, int(number / 2 + 1)):\n",
    "        if number % i == 0:\n",
    "            print(\"Sorry, this is not a prime.\")\n",
    "            return\n",
    "    print(f\"Congrats, {number} is a prime!\")\n",
    "\n",
    "def get_user_input():\n",
    "    return int(input(\"Please choose any number: \"))\n",
    "\n",
    "def main():\n",
    "    number = get_user_input()\n",
    "    return is_prime(number)\n",
    "\n",
    "if __name__ == \"__main__\":\n",
    "    main()"
   ]
  },
  {
   "cell_type": "code",
   "execution_count": null,
   "id": "3fcbb24a",
   "metadata": {},
   "outputs": [],
   "source": []
  }
 ],
 "metadata": {
  "kernelspec": {
   "display_name": "Python 3 (ipykernel)",
   "language": "python",
   "name": "python3"
  },
  "language_info": {
   "codemirror_mode": {
    "name": "ipython",
    "version": 3
   },
   "file_extension": ".py",
   "mimetype": "text/x-python",
   "name": "python",
   "nbconvert_exporter": "python",
   "pygments_lexer": "ipython3",
   "version": "3.11.4"
  }
 },
 "nbformat": 4,
 "nbformat_minor": 5
}
