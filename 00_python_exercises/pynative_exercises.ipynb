{
 "cells": [
  {
   "cell_type": "markdown",
   "id": "ffb83caf",
   "metadata": {},
   "source": [
    "# Input and Output"
   ]
  },
  {
   "cell_type": "code",
   "execution_count": 2,
   "id": "c2fceed0",
   "metadata": {},
   "outputs": [
    {
     "name": "stdout",
     "output_type": "stream",
     "text": [
      "Name**Is**Zach\n"
     ]
    }
   ],
   "source": [
    "print(\"Name\", \"Is\", \"Zach\", sep=\"**\")"
   ]
  },
  {
   "cell_type": "code",
   "execution_count": 5,
   "id": "15b9b287",
   "metadata": {},
   "outputs": [
    {
     "name": "stdout",
     "output_type": "stream",
     "text": [
      "1750\n"
     ]
    }
   ],
   "source": [
    "num = 1000\n",
    "print(\"%o\" % num)"
   ]
  },
  {
   "cell_type": "code",
   "execution_count": 9,
   "id": "72deb314",
   "metadata": {},
   "outputs": [
    {
     "name": "stdout",
     "output_type": "stream",
     "text": [
      "234234.13\n"
     ]
    }
   ],
   "source": [
    "num = 234234.12623423\n",
    "print(\"%.2f\" % num)"
   ]
  },
  {
   "cell_type": "code",
   "execution_count": 11,
   "id": "34e73141",
   "metadata": {},
   "outputs": [
    {
     "name": "stdout",
     "output_type": "stream",
     "text": [
      "Please choose a number: 4\n",
      "Please choose a number: 45645\n",
      "Please choose a number: 232323.3\n",
      "Please choose a number: 343\n",
      "Please choose a number: 1\n"
     ]
    },
    {
     "data": {
      "text/plain": [
       "[4.0, 45645.0, 232323.3, 343.0, 1.0]"
      ]
     },
     "execution_count": 11,
     "metadata": {},
     "output_type": "execute_result"
    }
   ],
   "source": [
    "numbers = []\n",
    "\n",
    "for i in range(5):\n",
    "    (x) = float(input(\"Please choose a number: \"))\n",
    "    numbers.append(x)\n",
    "    \n",
    "numbers"
   ]
  },
  {
   "cell_type": "code",
   "execution_count": 18,
   "id": "c5ee183c",
   "metadata": {},
   "outputs": [
    {
     "name": "stdout",
     "output_type": "stream",
     "text": [
      "Please give me three names: Zach, Sally, Tom\n",
      "Zach,\n",
      "Sally,\n",
      "Tom\n"
     ]
    }
   ],
   "source": [
    "name1, name2, name3 = input(\"Please give me three names: \").split()\n",
    "\n",
    "print(name1)\n",
    "print(name2)\n",
    "print(name3)"
   ]
  },
  {
   "cell_type": "code",
   "execution_count": 21,
   "id": "fab72967",
   "metadata": {},
   "outputs": [
    {
     "name": "stdout",
     "output_type": "stream",
     "text": [
      "I have $1000 dollars, so I can buy 3 of the items at a price of $333 each.\n"
     ]
    }
   ],
   "source": [
    "money = 1000\n",
    "quantity = 3\n",
    "price = 333\n",
    "\n",
    "print(f\"I have ${money} dollars, so I can buy {quantity} of the items at a price of ${price} each.\")"
   ]
  },
  {
   "cell_type": "markdown",
   "id": "7bdc1824",
   "metadata": {},
   "source": [
    "# Conditionals and Loops"
   ]
  },
  {
   "cell_type": "code",
   "execution_count": 3,
   "id": "02d6827d",
   "metadata": {},
   "outputs": [
    {
     "name": "stdout",
     "output_type": "stream",
     "text": [
      "1\n",
      "2\n",
      "3\n",
      "4\n",
      "5\n",
      "6\n",
      "7\n",
      "8\n",
      "9\n",
      "10\n"
     ]
    }
   ],
   "source": [
    "for i in range(1,11):\n",
    "    print(i)"
   ]
  },
  {
   "cell_type": "code",
   "execution_count": 19,
   "id": "2d7db77e",
   "metadata": {},
   "outputs": [
    {
     "name": "stdout",
     "output_type": "stream",
     "text": [
      "Please choose number of rows: 10\n",
      "1 \n",
      "1 2 \n",
      "1 2 3 \n",
      "1 2 3 4 \n",
      "1 2 3 4 5 \n",
      "1 2 3 4 5 6 \n",
      "1 2 3 4 5 6 7 \n",
      "1 2 3 4 5 6 7 8 \n",
      "1 2 3 4 5 6 7 8 9 \n",
      "1 2 3 4 5 6 7 8 9 10 \n"
     ]
    }
   ],
   "source": [
    "rows = int(input(\"Please choose number of rows: \"))\n",
    "\n",
    "for i in range(1, rows+1):\n",
    "    for j in range(1, i+1):\n",
    "        print(j, end=\" \")\n",
    "    print(\"\")"
   ]
  },
  {
   "cell_type": "code",
   "execution_count": 20,
   "id": "6d90fd09",
   "metadata": {},
   "outputs": [
    {
     "name": "stdout",
     "output_type": "stream",
     "text": [
      "Please choose a number: 10\n",
      "55\n"
     ]
    }
   ],
   "source": [
    "number = int(input(\"Please choose a number: \"))\n",
    "\n",
    "sum = 0\n",
    "\n",
    "for i in range(1, number+1):\n",
    "    sum += i\n",
    "    \n",
    "print(sum)"
   ]
  },
  {
   "cell_type": "code",
   "execution_count": 30,
   "id": "dee3d474",
   "metadata": {},
   "outputs": [
    {
     "name": "stdout",
     "output_type": "stream",
     "text": [
      "Please choose a number: 3\n",
      "3\n",
      "6\n",
      "9\n",
      "12\n",
      "15\n",
      "18\n",
      "21\n",
      "24\n",
      "27\n",
      "30\n"
     ]
    }
   ],
   "source": [
    "number = int(input(\"Please choose a number: \"))\n",
    "\n",
    "j = 1\n",
    "\n",
    "for i in range(1, 11):\n",
    "    print(number*j)\n",
    "    j += 1"
   ]
  },
  {
   "cell_type": "code",
   "execution_count": 33,
   "id": "02e57625",
   "metadata": {},
   "outputs": [
    {
     "name": "stdout",
     "output_type": "stream",
     "text": [
      "75\n",
      "150\n",
      "145\n"
     ]
    }
   ],
   "source": [
    "numbers = [12, 75, 150, 180, 145, 525, 50]\n",
    "\n",
    "for item in numbers:\n",
    "    if item > 500:\n",
    "        break\n",
    "    elif item > 150:\n",
    "        continue\n",
    "    elif item % 5 == 0:\n",
    "        print(item)"
   ]
  },
  {
   "cell_type": "markdown",
   "id": "a3f54199",
   "metadata": {},
   "source": [
    "# Functions"
   ]
  },
  {
   "cell_type": "code",
   "execution_count": 3,
   "id": "8f9f1c26",
   "metadata": {},
   "outputs": [
    {
     "name": "stdout",
     "output_type": "stream",
     "text": [
      "what is your name: Zach\n",
      "What is your age: 25\n",
      "Hello, Zach, you are 25 years old!\n"
     ]
    }
   ],
   "source": [
    "def get_age():\n",
    "    return input(\"What is your age: \")\n",
    "\n",
    "def get_name():\n",
    "    return input(\"what is your name: \")\n",
    "\n",
    "def main():\n",
    "    name = get_name()\n",
    "    age = get_age()\n",
    "    print(f\"Hello, {name}, you are {age} years old!\")\n",
    "    \n",
    "if __name__ == \"__main__\":\n",
    "    main()"
   ]
  },
  {
   "cell_type": "code",
   "execution_count": 11,
   "id": "902765b0",
   "metadata": {},
   "outputs": [
    {
     "name": "stdout",
     "output_type": "stream",
     "text": [
      "55\n"
     ]
    }
   ],
   "source": [
    "def addition(num):\n",
    "    if num:\n",
    "        return num + addition(num-1)\n",
    "    else:\n",
    "        return 0\n",
    "    \n",
    "result = addition(10)\n",
    "print(result)"
   ]
  },
  {
   "cell_type": "code",
   "execution_count": 1,
   "id": "4362e25b",
   "metadata": {},
   "outputs": [
    {
     "name": "stdout",
     "output_type": "stream",
     "text": [
      "What is your name: Zach\n",
      "What is your name: Zach\n"
     ]
    },
    {
     "data": {
      "text/plain": [
       "'Zach'"
      ]
     },
     "execution_count": 1,
     "metadata": {},
     "output_type": "execute_result"
    }
   ],
   "source": [
    "def get_name():\n",
    "    return input(\"What is your name: \")\n",
    "\n",
    "get_name()\n",
    "\n",
    "name = get_name\n",
    "\n",
    "name()"
   ]
  },
  {
   "cell_type": "code",
   "execution_count": 3,
   "id": "5a6e79f6",
   "metadata": {},
   "outputs": [
    {
     "data": {
      "text/plain": [
       "'Zhy'"
      ]
     },
     "execution_count": 3,
     "metadata": {},
     "output_type": "execute_result"
    }
   ],
   "source": [
    "string1 = \"Zachary\"\n",
    "string2 = string1[0] + string1[3] + string1[6]\n",
    "string2"
   ]
  },
  {
   "cell_type": "code",
   "execution_count": 6,
   "id": "fab9c5f7",
   "metadata": {},
   "outputs": [
    {
     "name": "stdout",
     "output_type": "stream",
     "text": [
      "cha\n"
     ]
    }
   ],
   "source": [
    "def get_middle_three_char(string1):\n",
    "    \n",
    "    middle = int(len(string1) / 2)\n",
    "    \n",
    "    result = string1[middle-1:middle+2]\n",
    "    \n",
    "    print(result)\n",
    "    \n",
    "get_middle_three_char(\"Zachary\")"
   ]
  },
  {
   "cell_type": "code",
   "execution_count": 9,
   "id": "b36fe6a7",
   "metadata": {},
   "outputs": [
    {
     "name": "stdout",
     "output_type": "stream",
     "text": [
      "Uppers: 3 Lowers: 15 Digits: 8 Symbols: 3\n"
     ]
    }
   ],
   "source": [
    "def find_digits_chars_symbols(string1):\n",
    "    \n",
    "    upper_count = 0\n",
    "    lower_count = 0\n",
    "    digit_count = 0\n",
    "    symbol_count = 0\n",
    "    \n",
    "    for char in string1:\n",
    "        if char.isupper():\n",
    "            upper_count += 1\n",
    "        elif char.islower():\n",
    "            lower_count += 1\n",
    "        elif char.isdigit():\n",
    "            digit_count += 1\n",
    "        else:\n",
    "            symbol_count += 1\n",
    "        \n",
    "    print(\"Uppers:\", upper_count,\n",
    "         \"Lowers:\", lower_count,\n",
    "         \"Digits:\", digit_count,\n",
    "         \"Symbols:\", symbol_count)\n",
    "    \n",
    "string1 = \"sdjASR343fjkshdf!@sdfs34^434t\"\n",
    "\n",
    "find_digits_chars_symbols(string1)"
   ]
  },
  {
   "cell_type": "code",
   "execution_count": 10,
   "id": "860e2ffc",
   "metadata": {},
   "outputs": [
    {
     "name": "stdout",
     "output_type": "stream",
     "text": [
      "Zach\n",
      "is\n",
      "25\n",
      "years\n",
      "old\n"
     ]
    }
   ],
   "source": [
    "string1 = \"Zach is 25 years old\"\n",
    "\n",
    "sub_string1 = string1.split(\" \")\n",
    "\n",
    "for sub in sub_string1:\n",
    "    print(sub)"
   ]
  },
  {
   "cell_type": "code",
   "execution_count": 14,
   "id": "14e0d453",
   "metadata": {},
   "outputs": [
    {
     "name": "stdout",
     "output_type": "stream",
     "text": [
      "25\n"
     ]
    }
   ],
   "source": [
    "string1 = \"I am 25 years old\"\n",
    "\n",
    "result = \"\".join([item for item in string1 if item.isdigit()])\n",
    "\n",
    "print(result)"
   ]
  },
  {
   "cell_type": "code",
   "execution_count": null,
   "id": "d5acff68",
   "metadata": {},
   "outputs": [],
   "source": []
  }
 ],
 "metadata": {
  "kernelspec": {
   "display_name": "Python 3 (ipykernel)",
   "language": "python",
   "name": "python3"
  },
  "language_info": {
   "codemirror_mode": {
    "name": "ipython",
    "version": 3
   },
   "file_extension": ".py",
   "mimetype": "text/x-python",
   "name": "python",
   "nbconvert_exporter": "python",
   "pygments_lexer": "ipython3",
   "version": "3.11.4"
  }
 },
 "nbformat": 4,
 "nbformat_minor": 5
}
