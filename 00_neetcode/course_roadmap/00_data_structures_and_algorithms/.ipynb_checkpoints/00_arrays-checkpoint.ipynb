{
 "cells": [
  {
   "cell_type": "markdown",
   "id": "58ce8dc1",
   "metadata": {},
   "source": [
    "# Arrays"
   ]
  },
  {
   "cell_type": "markdown",
   "id": "e729863d",
   "metadata": {},
   "source": [
    "## RAM\n",
    "\n",
    "8 individual bits make up a byte\n",
    "\n",
    "bytes make up RAM\n",
    "\n",
    "RAM represents data structures, such as an array\n",
    "\n",
    "an array = [1,2,3] could be represented as a series of 12 bytes, 4 for each, and in each series of bytes, the bits are arranged in a way that represent a 1, 2, and 3. These byte series are all next to each other (aka contiguous)\n",
    "\n",
    "RAM has two components to it: values and addresses\n",
    "\n",
    "different data is stored with different types of data structures (char, int, float, str, bool, etc)"
   ]
  },
  {
   "cell_type": "markdown",
   "id": "b63daa8a",
   "metadata": {},
   "source": [
    "## Static Arrays\n",
    "\n",
    "we can always read an array from RAM using their addresses. But we don't need to know their actual address!\n",
    "\n",
    "instead, we refer to the array name (ie my_array) which will reference the array in RAM, and all we need do is specify the index (ie 0, 1, 2, etc)\n",
    "\n",
    "reading arrays is O(1) time complexity...which means it happens in constant time\n",
    "\n",
    "RAM's main advantage is that we can \"randomly\" access any address in memory in time (aka we don't need to go left through right every single time)\n",
    "\n",
    "static arrays are of fixed size, which is very very important for writing to arrays...this is their biggest limitation\n",
    "\n",
    "interset or removing an element at the end are both O(1) time\n",
    "\n",
    "but inserting or removing an element in the middle isn't done in a single operation...everything is shifted over, so this is O(n) time\n",
    "\n",
    "\n",
    "\n",
    "### Static array Big-o:\n",
    "\n",
    "read/write element: O(1)\n",
    "\n",
    "insert/remove end: O(1)\n",
    "\n",
    "insert/remove middle: O(n)"
   ]
  },
  {
   "cell_type": "markdown",
   "id": "3256498b",
   "metadata": {},
   "source": [
    "## Dynamic Arrays\n",
    "\n",
    "when you add an element to an array and its size is surpassed, what happens is a brand new array location in memory is created...is is doubled now, too!\n",
    "\n",
    "however, the original array is still there! so, what we do is deallocate it...we tell the OS we don't need it anymore!\n",
    "\n",
    "this whole \"new array\" process takes O(n) time because we have to not only create an entirey new array doubled the size, but push all of our old elements into it. \n",
    "\n",
    "the \"doubling array capacity\" is called amortized complexity, because it's a trade-off between doubling it but ideally not doing more than we need to. unless we add more than the now doubled space, it's only O(1) time, and possibly O(n) time. (if we end up needing to generate a new array after that)\n",
    "\n",
    "technically speaking, the runtime is O(2 * n) but since we don't care about constants when multiplied or added, O(c + n) just because O(n)\n",
    "\n",
    "This is why we assume that at worst, the dynamic array big-o for insert-remove is the same as static arrays, even though technically it is amortized time complexity\n",
    "\n",
    "\n",
    "### Dynamic Array Big-O:\n",
    "read/write element: O(1)\n",
    "\n",
    "insert/remove element: O(1)\n",
    "\n",
    "insert/remove middle: O(n)"
   ]
  },
  {
   "cell_type": "markdown",
   "id": "ea31f4ee",
   "metadata": {},
   "source": [
    "## Stack\n",
    "\n",
    "let's use a data structure that supports three operations:\n",
    "\n",
    "push an element to end of stack\n",
    "\n",
    "pop an element from end of stack\n",
    "\n",
    "peek/top (look) at last element in end of stack\n",
    "\n",
    "and they should ALL be constant time operations!!\n",
    "\n",
    "technically, stacks can be implemented using dynamic arrays! \n",
    "\n",
    "to visualize, it's best to think of them as vertical arrays (where the top is the end)\n",
    "\n",
    "when we're pushing and then popping, the elements are in reversed order:\n",
    "\n",
    "ex) PUSH 1, 2, 3, and then POP 3, 2, 1\n",
    "\n",
    "this is known as \"LAST IN, FIRST OUT, or LIFO"
   ]
  }
 ],
 "metadata": {
  "kernelspec": {
   "display_name": "Python 3 (ipykernel)",
   "language": "python",
   "name": "python3"
  },
  "language_info": {
   "codemirror_mode": {
    "name": "ipython",
    "version": 3
   },
   "file_extension": ".py",
   "mimetype": "text/x-python",
   "name": "python",
   "nbconvert_exporter": "python",
   "pygments_lexer": "ipython3",
   "version": "3.11.4"
  }
 },
 "nbformat": 4,
 "nbformat_minor": 5
}
