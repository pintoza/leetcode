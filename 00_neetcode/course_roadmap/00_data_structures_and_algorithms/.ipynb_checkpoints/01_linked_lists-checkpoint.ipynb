{
 "cells": [
  {
   "cell_type": "markdown",
   "id": "428f52d3",
   "metadata": {},
   "source": [
    "# Linked Lists"
   ]
  },
  {
   "cell_type": "markdown",
   "id": "a62c1b03",
   "metadata": {},
   "source": [
    "## Singly Linked Lists\n",
    "\n",
    "They are made up of List Nodes\n",
    "\n",
    "List nodes encapsulates VALUES and NEXT pointer\n",
    "\n",
    "The value stores the value and NEXT pointer, and NEXT pointer tells you the address of the next value\n",
    "\n",
    "The value-address pairs for each of the nodes are often not stored together. They can be anywhere throughout the memory. This is the purpose of the node pointers\n",
    "\n",
    "sometimes nodes have a NULL value in the pointer, so the linked list ends\n",
    "\n",
    "### Big-O\n",
    "\n",
    "Access: O(n)\n",
    "\n",
    "Search: O(n)\n",
    "\n",
    "Insertion: O(1)\n",
    "\n",
    "Deletion: O(1)"
   ]
  },
  {
   "cell_type": "markdown",
   "id": "701876b4",
   "metadata": {},
   "source": [
    "## Doubly Linked Lists\n",
    "\n",
    "Doubly linked lists have two pointers. one for NEXT and the other for PREVIOUS\n",
    "\n",
    "the NEXT pointer points to the next node\n",
    "\n",
    "the PREVIOUS pointer points to the previuos node\n",
    "\n",
    "NEXT and PREVIOUS pointers can be null\n",
    "\n",
    "### Big-O\n",
    "\n",
    "Access: O(n)\n",
    "\n",
    "Search: O(n)\n",
    "\n",
    "Insertion: O(1)\n",
    "\n",
    "Deletion: O(1)"
   ]
  },
  {
   "cell_type": "markdown",
   "id": "51a390f4",
   "metadata": {},
   "source": [
    "## Queues\n",
    "\n",
    "similar to Stacks, but this time it's FIFO...First In, First Out!\n",
    "\n",
    "when we push elements, we push them to the END. this is caled Enqueuing\n",
    "\n",
    "when we pop elements, we pop from the FRONT. this is called Dequeuing\n",
    "\n",
    "the above process makes it so that we remove elements in the order that we added them\n",
    "\n",
    "Linked Lists enables this possibility, bc we are able to make it so that any previous node no longer exists basically\n",
    "\n",
    "### Big-O\n",
    "\n",
    "Access: O(n)\n",
    "\n",
    "Search: O(n)\n",
    "\n",
    "Insertion: O(1)\n",
    "\n",
    "Deletion: O(1)"
   ]
  }
 ],
 "metadata": {
  "kernelspec": {
   "display_name": "Python 3 (ipykernel)",
   "language": "python",
   "name": "python3"
  },
  "language_info": {
   "codemirror_mode": {
    "name": "ipython",
    "version": 3
   },
   "file_extension": ".py",
   "mimetype": "text/x-python",
   "name": "python",
   "nbconvert_exporter": "python",
   "pygments_lexer": "ipython3",
   "version": "3.11.4"
  }
 },
 "nbformat": 4,
 "nbformat_minor": 5
}
