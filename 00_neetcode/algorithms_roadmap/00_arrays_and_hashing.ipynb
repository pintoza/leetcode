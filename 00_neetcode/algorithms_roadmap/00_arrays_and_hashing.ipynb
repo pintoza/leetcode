{
 "cells": [
  {
   "cell_type": "markdown",
   "id": "ded8f69e",
   "metadata": {},
   "source": [
    "# Arrays and Hasing"
   ]
  },
  {
   "cell_type": "markdown",
   "id": "3272132f",
   "metadata": {},
   "source": [
    "## Contains Duplicate\n",
    "\n",
    "1. keep adding elements to hashmap\n",
    "2. check if each element is in hashmap\n",
    "3. if in hashmap, it's a duplicate\n",
    "\n",
    "Time: O(n)\n",
    "\n",
    "Space: O(n)"
   ]
  },
  {
   "cell_type": "code",
   "execution_count": 10,
   "id": "4716348f",
   "metadata": {},
   "outputs": [
    {
     "data": {
      "text/plain": [
       "True"
      ]
     },
     "execution_count": 10,
     "metadata": {},
     "output_type": "execute_result"
    }
   ],
   "source": [
    "from typing import List\n",
    "\n",
    "def containsDuplicate(nums: List[int]) -> bool:\n",
    "    hashset = set()\n",
    "\n",
    "    for n in nums:\n",
    "        if n in hashset:\n",
    "            return True\n",
    "        hashset.add(n)\n",
    "    return False\n",
    "\n",
    "nums = [1,2,3,4,1]\n",
    "containsDuplicate(nums)"
   ]
  },
  {
   "cell_type": "markdown",
   "id": "1cf56b76",
   "metadata": {},
   "source": [
    "## Valid Anagram\n",
    "\n",
    "1. sort the elements\n",
    "2. return whether it's true or not that each string is equal\n",
    "3. if theyre equal, it's true by default that they're anagrams of eachother\n",
    "\n",
    "Time: O(nlogn)\n",
    "\n",
    "Space: O(n)"
   ]
  },
  {
   "cell_type": "code",
   "execution_count": 11,
   "id": "da2c8b37",
   "metadata": {},
   "outputs": [
    {
     "data": {
      "text/plain": [
       "True"
      ]
     },
     "execution_count": 11,
     "metadata": {},
     "output_type": "execute_result"
    }
   ],
   "source": [
    "def is_anagram(s: str, t: str) -> bool:\n",
    "    return sorted(s) == sorted(t)\n",
    "\n",
    "s = \"anagram\"\n",
    "t = \"nagaram\"\n",
    "\n",
    "is_anagram(s, t)"
   ]
  },
  {
   "cell_type": "markdown",
   "id": "40aeb366",
   "metadata": {},
   "source": [
    "## Two Sum\n",
    "\n",
    "1. initalize an empty dictionary\n",
    "2. iterate throught the list\n",
    "3. for each number, find its complement of target minus the number\n",
    "4. if the complement is in the diciontary, these are our key numbers\n",
    "5. return these two numbers indexes\n",
    "\n",
    "Time: O(n)\n",
    "\n",
    "Space: O(n)"
   ]
  },
  {
   "cell_type": "code",
   "execution_count": 16,
   "id": "dd997822",
   "metadata": {},
   "outputs": [
    {
     "data": {
      "text/plain": [
       "[1, 2]"
      ]
     },
     "execution_count": 16,
     "metadata": {},
     "output_type": "execute_result"
    }
   ],
   "source": [
    "def two_sum(nums: list[int], target: int) -> list[int]:\n",
    "    number_dict = {}\n",
    "    for index, num in enumerate(nums):\n",
    "        complement = target - num\n",
    "        if complement in number_dict:\n",
    "            return [number_dict[complement], index]\n",
    "        number_dict[num] = index\n",
    "\n",
    "        \n",
    "nums = [2,7,11,15]\n",
    "target = 18\n",
    "two_sum(nums, target)"
   ]
  },
  {
   "cell_type": "code",
   "execution_count": null,
   "id": "d2c6867a",
   "metadata": {},
   "outputs": [],
   "source": []
  }
 ],
 "metadata": {
  "kernelspec": {
   "display_name": "Python 3 (ipykernel)",
   "language": "python",
   "name": "python3"
  },
  "language_info": {
   "codemirror_mode": {
    "name": "ipython",
    "version": 3
   },
   "file_extension": ".py",
   "mimetype": "text/x-python",
   "name": "python",
   "nbconvert_exporter": "python",
   "pygments_lexer": "ipython3",
   "version": "3.11.4"
  }
 },
 "nbformat": 4,
 "nbformat_minor": 5
}
