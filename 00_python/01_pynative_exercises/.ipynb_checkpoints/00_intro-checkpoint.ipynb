{
 "cells": [
  {
   "cell_type": "code",
   "execution_count": 3,
   "id": "79030aad",
   "metadata": {},
   "outputs": [
    {
     "data": {
      "text/plain": [
       "600"
      ]
     },
     "execution_count": 3,
     "metadata": {},
     "output_type": "execute_result"
    }
   ],
   "source": [
    "num1 = 20\n",
    "num2 = 30\n",
    "\n",
    "num1 * num2"
   ]
  },
  {
   "cell_type": "code",
   "execution_count": 17,
   "id": "74bb2fd3",
   "metadata": {},
   "outputs": [
    {
     "name": "stdout",
     "output_type": "stream",
     "text": [
      "Current Number: 0 Previous Number: 0 Cumulative Sum: 0\n",
      "Current Number: 1 Previous Number: 0 Cumulative Sum: 1\n",
      "Current Number: 2 Previous Number: 1 Cumulative Sum: 3\n",
      "Current Number: 3 Previous Number: 2 Cumulative Sum: 6\n",
      "Current Number: 4 Previous Number: 3 Cumulative Sum: 10\n",
      "Current Number: 5 Previous Number: 4 Cumulative Sum: 15\n",
      "Current Number: 6 Previous Number: 5 Cumulative Sum: 21\n",
      "Current Number: 7 Previous Number: 6 Cumulative Sum: 28\n",
      "Current Number: 8 Previous Number: 7 Cumulative Sum: 36\n",
      "Current Number: 9 Previous Number: 8 Cumulative Sum: 45\n",
      "Current Number: 10 Previous Number: 9 Cumulative Sum: 55\n"
     ]
    }
   ],
   "source": [
    "current_sum = 0\n",
    "previous_number = 0\n",
    "\n",
    "for i in range(11):\n",
    "    current_sum += i\n",
    "    print(\"Current Number:\", i, \"Previous Number:\", previous_number, \"Cumulative Sum:\", current_sum)\n",
    "    previous_number = i"
   ]
  },
  {
   "cell_type": "code",
   "execution_count": 23,
   "id": "50f5acf5",
   "metadata": {},
   "outputs": [
    {
     "name": "stdout",
     "output_type": "stream",
     "text": [
      "p\n",
      "n\n",
      "t\n",
      "v\n"
     ]
    }
   ],
   "source": [
    "str = \"pynative\"\n",
    "\n",
    "for i in range(len(str)):\n",
    "    if i % 2 == 0:\n",
    "        print(str[i])"
   ]
  },
  {
   "cell_type": "code",
   "execution_count": 25,
   "id": "17e72b9e",
   "metadata": {},
   "outputs": [
    {
     "name": "stdout",
     "output_type": "stream",
     "text": [
      "tive\n",
      "native\n"
     ]
    }
   ],
   "source": [
    "def remove_chars(string, number):\n",
    "    print(string[number:])\n",
    "    \n",
    "remove_chars(\"pynative\", 4)\n",
    "remove_chars(\"pynative\", 2)"
   ]
  },
  {
   "cell_type": "code",
   "execution_count": 27,
   "id": "39ac7f81",
   "metadata": {},
   "outputs": [
    {
     "name": "stdout",
     "output_type": "stream",
     "text": [
      "True\n",
      "False\n"
     ]
    }
   ],
   "source": [
    "def first_last_same(list1):\n",
    "    return list1[0] == list1[-1]\n",
    "\n",
    "numbers_x = [10, 20, 30, 40, 10]\n",
    "numbers_y = [75, 65, 35, 75, 30]\n",
    "\n",
    "print(first_last_same(numbers_x))\n",
    "print(first_last_same(numbers_y))"
   ]
  },
  {
   "cell_type": "code",
   "execution_count": 34,
   "id": "95d7d6f1",
   "metadata": {},
   "outputs": [
    {
     "name": "stdout",
     "output_type": "stream",
     "text": [
      "Numbers from list divisible by 5:\n",
      "10\n",
      "20\n",
      "55\n"
     ]
    }
   ],
   "source": [
    "def divisible_by_5(list1):\n",
    "    print(\"Numbers from list divisible by 5:\")\n",
    "    for i in list1:\n",
    "        if i % 5 == 0:\n",
    "            print(i)\n",
    "\n",
    "list1 = [10, 20, 33, 46, 55]\n",
    "divisible_by_5(list1)"
   ]
  },
  {
   "cell_type": "code",
   "execution_count": 36,
   "id": "9fe73544",
   "metadata": {},
   "outputs": [
    {
     "name": "stdout",
     "output_type": "stream",
     "text": [
      "2\n"
     ]
    }
   ],
   "source": [
    "str_x = \"Emma is good developer. Emma is a writer\"\n",
    "\n",
    "print(str_x.count(\"Emma\"))"
   ]
  },
  {
   "cell_type": "code",
   "execution_count": 49,
   "id": "5855f941",
   "metadata": {},
   "outputs": [
    {
     "name": "stdout",
     "output_type": "stream",
     "text": [
      "\n",
      "1 \n",
      "2 2 \n",
      "3 3 3 \n",
      "4 4 4 4 \n",
      "5 5 5 5 5 \n"
     ]
    }
   ],
   "source": [
    "for num in range(6):\n",
    "    for i in range(num):\n",
    "        print (num, end=\" \")\n",
    "    print()"
   ]
  },
  {
   "cell_type": "code",
   "execution_count": 50,
   "id": "2315aa0e",
   "metadata": {},
   "outputs": [
    {
     "name": "stdout",
     "output_type": "stream",
     "text": [
      "original number 121\n",
      "Given number palindrome\n",
      "original number 125\n",
      "Given number is not palindrome\n"
     ]
    }
   ],
   "source": [
    "def palindrome(number):\n",
    "    print(\"original number\", number)\n",
    "    original_num = number\n",
    "    \n",
    "    # reverse the given number\n",
    "    reverse_num = 0\n",
    "    while number > 0:\n",
    "        reminder = number % 10\n",
    "        reverse_num = (reverse_num * 10) + reminder\n",
    "        number = number // 10\n",
    "\n",
    "    # check numbers\n",
    "    if original_num == reverse_num:\n",
    "        print(\"Given number palindrome\")\n",
    "    else:\n",
    "        print(\"Given number is not palindrome\")\n",
    "\n",
    "palindrome(121)\n",
    "palindrome(125)"
   ]
  },
  {
   "cell_type": "code",
   "execution_count": 63,
   "id": "650484f9",
   "metadata": {},
   "outputs": [
    {
     "name": "stdout",
     "output_type": "stream",
     "text": [
      "[25, 35, 40, 60, 90]\n"
     ]
    }
   ],
   "source": [
    "result = []\n",
    "\n",
    "def merge_odds1_evens2(list1, list2):\n",
    "    for num in list1:\n",
    "        if num % 2 != 0:\n",
    "            result.append(num)\n",
    "    for num in list2:\n",
    "        if num % 2 == 0:\n",
    "            result.append(num)\n",
    "    return result\n",
    "    \n",
    "list1 = [10, 20, 25, 30, 35]\n",
    "list2 = [40, 45, 60, 75, 90]\n",
    "\n",
    "print(merge_odds1_evens2(list1, list2))"
   ]
  },
  {
   "cell_type": "code",
   "execution_count": 57,
   "id": "03b5e151",
   "metadata": {},
   "outputs": [
    {
     "data": {
      "text/plain": [
       "1"
      ]
     },
     "execution_count": 57,
     "metadata": {},
     "output_type": "execute_result"
    }
   ],
   "source": [
    "33 % 2"
   ]
  },
  {
   "cell_type": "code",
   "execution_count": 78,
   "id": "8fb984a1",
   "metadata": {},
   "outputs": [
    {
     "name": "stdout",
     "output_type": "stream",
     "text": [
      "Given income 10001\n",
      "Total tax to pay is 0.1\n"
     ]
    }
   ],
   "source": [
    "income = 10001\n",
    "tax_payable = 0\n",
    "print(\"Given income\", income)\n",
    "\n",
    "if income <= 10000:\n",
    "    tax_payable = 0\n",
    "elif income <= 20000:\n",
    "    # no tax on first 10,000\n",
    "    x = income - 10000\n",
    "    # 10% tax\n",
    "    tax_payable = x * 10 / 100\n",
    "else:\n",
    "    # first 10,000\n",
    "    tax_payable = 0\n",
    "\n",
    "    # next 10,000 10% tax\n",
    "    tax_payable = 10000 * 10 / 100\n",
    "\n",
    "    # remaining 20%tax\n",
    "    tax_payable += (income - 20000) * 20 / 100\n",
    "\n",
    "print(\"Total tax to pay is\", tax_payable)"
   ]
  },
  {
   "cell_type": "code",
   "execution_count": 87,
   "id": "39363024",
   "metadata": {},
   "outputs": [
    {
     "name": "stdout",
     "output_type": "stream",
     "text": [
      "1 2 3 4 5 6 7 8 9 10 \n",
      "2 4 6 8 10 12 14 16 18 20 \n",
      "3 6 9 12 15 18 21 24 27 30 \n",
      "4 8 12 16 20 24 28 32 36 40 \n",
      "5 10 15 20 25 30 35 40 45 50 \n",
      "6 12 18 24 30 36 42 48 54 60 \n",
      "7 14 21 28 35 42 49 56 63 70 \n",
      "8 16 24 32 40 48 56 64 72 80 \n",
      "9 18 27 36 45 54 63 72 81 90 \n",
      "10 20 30 40 50 60 70 80 90 100 \n"
     ]
    }
   ],
   "source": [
    "for i in range(1, 11):\n",
    "    for j in range(1, 11):\n",
    "        print(i * j, end=\" \")\n",
    "    print()"
   ]
  },
  {
   "cell_type": "code",
   "execution_count": 89,
   "id": "a07d8a87",
   "metadata": {},
   "outputs": [
    {
     "name": "stdout",
     "output_type": "stream",
     "text": [
      "625\n"
     ]
    }
   ],
   "source": [
    "def exponent(base, exp):\n",
    "    print(base ** exp)\n",
    "    \n",
    "base = 5\n",
    "exp = 4\n",
    "\n",
    "exponent(5,4)"
   ]
  }
 ],
 "metadata": {
  "kernelspec": {
   "display_name": "Python 3 (ipykernel)",
   "language": "python",
   "name": "python3"
  },
  "language_info": {
   "codemirror_mode": {
    "name": "ipython",
    "version": 3
   },
   "file_extension": ".py",
   "mimetype": "text/x-python",
   "name": "python",
   "nbconvert_exporter": "python",
   "pygments_lexer": "ipython3",
   "version": "3.11.4"
  }
 },
 "nbformat": 4,
 "nbformat_minor": 5
}
