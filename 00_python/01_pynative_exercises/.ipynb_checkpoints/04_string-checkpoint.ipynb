{
 "cells": [
  {
   "cell_type": "code",
   "execution_count": 17,
   "id": "97528917",
   "metadata": {},
   "outputs": [
    {
     "name": "stdout",
     "output_type": "stream",
     "text": [
      "Jms\n"
     ]
    }
   ],
   "source": [
    "str1 = \"James\"\n",
    "\n",
    "print(str1[0] + str1[int(len(str1) / 2)] + str1[-1])"
   ]
  },
  {
   "cell_type": "code",
   "execution_count": 19,
   "id": "98e80272",
   "metadata": {},
   "outputs": [
    {
     "name": "stdout",
     "output_type": "stream",
     "text": [
      "AJrpan\n"
     ]
    }
   ],
   "source": [
    "s1 = \"America\"\n",
    "s2 = \"Japan\"\n",
    "\n",
    "firsts = s1[0] + s2[0]\n",
    "\n",
    "middles = s1[int(len(s1) / 2)] + s2[int(len(s2) / 2)]\n",
    "\n",
    "lasts = s1[-1] + s2[-1]\n",
    "\n",
    "print(firsts + middles + lasts)"
   ]
  },
  {
   "cell_type": "code",
   "execution_count": 22,
   "id": "818ae021",
   "metadata": {},
   "outputs": [
    {
     "name": "stdout",
     "output_type": "stream",
     "text": [
      "ntivPYAE\n"
     ]
    }
   ],
   "source": [
    "str1 = \"PYnAtivE\"\n",
    "\n",
    "result = []\n",
    "\n",
    "for char in str1:\n",
    "    if char.islower():\n",
    "        result.append(char)\n",
    "\n",
    "for char in str1:\n",
    "    if char.isupper():\n",
    "        result.append(char)\n",
    "        \n",
    "print(''.join(result))"
   ]
  },
  {
   "cell_type": "code",
   "execution_count": 23,
   "id": "4f071a74",
   "metadata": {},
   "outputs": [
    {
     "name": "stdout",
     "output_type": "stream",
     "text": [
      "Lowers:  17\n",
      "Uppers:  1\n",
      "Symbols:  34\n"
     ]
    }
   ],
   "source": [
    "str1 = \"3vjkfh*&^T*^dgf736*&^%hj45&hber5fgd\"\n",
    "\n",
    "lowers = 0\n",
    "uppers = 0\n",
    "symbols = 0\n",
    "\n",
    "for char in str1:\n",
    "    \n",
    "    if char.islower():\n",
    "        lowers += 1\n",
    "    if char.isupper():\n",
    "        uppers += 1\n",
    "    else:\n",
    "        symbols +=1\n",
    "        \n",
    "print(\"Lowers: \", lowers)\n",
    "print(\"Uppers: \", uppers)\n",
    "print(\"Symbols: \", symbols)"
   ]
  },
  {
   "cell_type": "code",
   "execution_count": 24,
   "id": "99a67887",
   "metadata": {},
   "outputs": [
    {
     "name": "stdout",
     "output_type": "stream",
     "text": [
      "['Zach', 'is', 'a', 'data', 'scientist']\n"
     ]
    }
   ],
   "source": [
    "str1 = \"Zach-is-a-data-scientist\"\n",
    "\n",
    "print(str1.split(\"-\"))"
   ]
  }
 ],
 "metadata": {
  "kernelspec": {
   "display_name": "Python 3 (ipykernel)",
   "language": "python",
   "name": "python3"
  },
  "language_info": {
   "codemirror_mode": {
    "name": "ipython",
    "version": 3
   },
   "file_extension": ".py",
   "mimetype": "text/x-python",
   "name": "python",
   "nbconvert_exporter": "python",
   "pygments_lexer": "ipython3",
   "version": "3.11.4"
  }
 },
 "nbformat": 4,
 "nbformat_minor": 5
}
